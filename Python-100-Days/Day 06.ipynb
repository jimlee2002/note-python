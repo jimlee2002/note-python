{
 "cells": [
  {
   "attachments": {},
   "cell_type": "markdown",
   "metadata": {},
   "source": [
    "# 函数与模块"
   ]
  },
  {
   "attachments": {},
   "cell_type": "markdown",
   "metadata": {},
   "source": [
    "## 函数定义"
   ]
  },
  {
   "cell_type": "code",
   "execution_count": 2,
   "metadata": {},
   "outputs": [
    {
     "name": "stdout",
     "output_type": "stream",
     "text": [
      "2\n"
     ]
    }
   ],
   "source": [
    "def fac(num):\n",
    "    result = 1\n",
    "    for n in range(1, num+1):\n",
    "        result *= n\n",
    "    return result\n",
    "\n",
    "m = int(input(\"m = \"))\n",
    "print(fac(m))"
   ]
  },
  {
   "attachments": {},
   "cell_type": "markdown",
   "metadata": {},
   "source": [
    "## 函数的参数"
   ]
  },
  {
   "attachments": {},
   "cell_type": "markdown",
   "metadata": {},
   "source": [
    "### 默认参数"
   ]
  },
  {
   "attachments": {},
   "cell_type": "markdown",
   "metadata": {},
   "source": [
    "- 默认参数必须指向不可变对象"
   ]
  },
  {
   "cell_type": "code",
   "execution_count": 5,
   "metadata": {},
   "outputs": [
    {
     "name": "stdout",
     "output_type": "stream",
     "text": [
      "0\n",
      "3\n",
      "8\n"
     ]
    }
   ],
   "source": [
    "# 设置默认参数\n",
    "def add(a=0, b=0, c=0):\n",
    "    \"\"\"三个数相加\"\"\"\n",
    "    return a + b + c\n",
    "\n",
    "# 参数不指定的，使用默认值\n",
    "print(add())\n",
    "print(add(1, 2))\n",
    "\n",
    "# 不按顺序传参\n",
    "print(add(c=2, a=1, b=5))"
   ]
  },
  {
   "attachments": {},
   "cell_type": "markdown",
   "metadata": {},
   "source": [
    "### 可变参数\n",
    "\n",
    "允许你传入0个或任意个参数"
   ]
  },
  {
   "cell_type": "code",
   "execution_count": 11,
   "metadata": {},
   "outputs": [
    {
     "name": "stdout",
     "output_type": "stream",
     "text": [
      "0\n",
      "15\n",
      "15\n"
     ]
    }
   ],
   "source": [
    "# 可变参数\n",
    "def add(*args):\n",
    "    total = 0\n",
    "    for val in args:\n",
    "        total += val\n",
    "    return total\n",
    "\n",
    "# 可传入0个或多个参数\n",
    "print(add())\n",
    "print(add(1, 2, 3, 4, 5))\n",
    "\n",
    "# 传入list/tuple\n",
    "n_list = (1, 2, 3, 4, 5)\n",
    "print(add(*n_list))\n"
   ]
  },
  {
   "attachments": {},
   "cell_type": "markdown",
   "metadata": {},
   "source": [
    "### 关键字参数\n"
   ]
  },
  {
   "cell_type": "markdown",
   "metadata": {},
   "source": [
    "- 允许你传入0个或任意个**含参数名**的参数"
   ]
  },
  {
   "cell_type": "code",
   "execution_count": 22,
   "metadata": {},
   "outputs": [
    {
     "name": "stdout",
     "output_type": "stream",
     "text": [
      "name: Adam age: 35 other: {}\n",
      "name: Adam age: 35 other: {'city': 'Beijing'}\n",
      "name: Adam age: 35 other: {'city': 'Beijing', 'job': 'Teacher'}\n"
     ]
    }
   ],
   "source": [
    "# 关键字参数\n",
    "def person(name, age, **kw):\n",
    "    print(\"name:\", name, \"age:\", age, \"other:\", kw)\n",
    "\n",
    "# 0个或任意个含参数名的参数\n",
    "person(\"Adam\", 35)\n",
    "person(\"Adam\", 35, city=\"Beijing\")\n",
    "\n",
    "# 传入dict\n",
    "person_info = {\"city\": \"Beijing\", \"job\": \"Teacher\"}\n",
    "person(\"Adam\", 35, **person_info)"
   ]
  },
  {
   "attachments": {},
   "cell_type": "markdown",
   "metadata": {},
   "source": [
    "## 命名关键字参数\n",
    "\n",
    "- 限制关键字参数的名字"
   ]
  },
  {
   "cell_type": "code",
   "execution_count": 33,
   "metadata": {},
   "outputs": [
    {
     "name": "stdout",
     "output_type": "stream",
     "text": [
      "Jack 24 Beijing Engineer\n"
     ]
    }
   ],
   "source": [
    "# 只接收city和job作为关键字参数\n",
    "\n",
    "# * 后面的参数被视为命名关键字参数\n",
    "def person(name, age, *, city, job):\n",
    "    print(name, age, city, job)\n",
    "\n",
    "person('Jack', 24, city='Beijing', job='Engineer')"
   ]
  },
  {
   "cell_type": "code",
   "execution_count": 34,
   "metadata": {},
   "outputs": [
    {
     "ename": "TypeError",
     "evalue": "person() takes 2 positional arguments but 4 were given",
     "output_type": "error",
     "traceback": [
      "\u001b[0;31m---------------------------------------------------------------------------\u001b[0m",
      "\u001b[0;31mTypeError\u001b[0m                                 Traceback (most recent call last)",
      "Cell \u001b[0;32mIn[34], line 2\u001b[0m\n\u001b[1;32m      1\u001b[0m \u001b[39m# 命名关键字参数必须传入参数名。如果没有传入参数名，调用将报错：\u001b[39;00m\n\u001b[0;32m----> 2\u001b[0m person(\u001b[39m'\u001b[39;49m\u001b[39mJack\u001b[39;49m\u001b[39m'\u001b[39;49m, \u001b[39m24\u001b[39;49m, \u001b[39m'\u001b[39;49m\u001b[39mBeijing\u001b[39;49m\u001b[39m'\u001b[39;49m, \u001b[39m'\u001b[39;49m\u001b[39mEngineer\u001b[39;49m\u001b[39m'\u001b[39;49m)\n",
      "\u001b[0;31mTypeError\u001b[0m: person() takes 2 positional arguments but 4 were given"
     ]
    }
   ],
   "source": [
    "# 命名关键字参数必须传入参数名。如果没有传入参数名，调用将报错：\n",
    "person('Jack', 24, 'Beijing', 'Engineer')"
   ]
  },
  {
   "cell_type": "code",
   "execution_count": 27,
   "metadata": {},
   "outputs": [],
   "source": [
    "# 如果函数定义中已经有了一个可变参数，后面跟着的命名关键字参数无需特殊分隔符*\n",
    "def person(name, age, *args, city, job):\n",
    "    print(name, age, args, city, job)\n",
    "\n",
    "# 命名关键字参数的默认值\n",
    "def person(name, age, *, city='Beijing', job):\n",
    "    print(name, age, city, job)"
   ]
  },
  {
   "attachments": {},
   "cell_type": "markdown",
   "metadata": {},
   "source": [
    "### 参数的组合\n",
    "\n",
    "定义的顺序：必选参数-默认参数-可变参数-命名关键字参数-关键字参数"
   ]
  },
  {
   "cell_type": "code",
   "execution_count": 38,
   "metadata": {},
   "outputs": [
    {
     "name": "stdout",
     "output_type": "stream",
     "text": [
      "a = 1 b = 2 c = 3 args = (4, 5, 6, 10, 11, 21) d = 88 e = 89 kw = {'f': 99, 'g': 1000}\n"
     ]
    }
   ],
   "source": [
    "def f2(a, b, c=0, *args, d, e, **kw):\n",
    "    print('a =', a, 'b =', b, 'c =', c, 'args =', args, 'd =', d, 'e =', e, 'kw =', kw)\n",
    "\n",
    "list1 = (10, 11, 21)\n",
    "f2(1, 2, 3, 4, 5, 6, *list1, d=88, e=89, f=99, g=1000)"
   ]
  },
  {
   "attachments": {},
   "cell_type": "markdown",
   "metadata": {},
   "source": [
    "## 模块"
   ]
  },
  {
   "attachments": {},
   "cell_type": "markdown",
   "metadata": {},
   "source": [
    "- 每个Python文件就是一个模块module\n",
    "- 通过 import 关键字，从导入\n",
    "- 避免命名冲突"
   ]
  },
  {
   "cell_type": "code",
   "execution_count": 14,
   "metadata": {},
   "outputs": [
    {
     "name": "stdout",
     "output_type": "stream",
     "text": [
      "3.10.11 (main, Apr 20 2023, 13:59:00) [Clang 14.0.6 ]\n"
     ]
    }
   ],
   "source": [
    "# 导入整个模块\n",
    "import sys\n",
    "\n",
    "print(sys.version)"
   ]
  },
  {
   "cell_type": "code",
   "execution_count": 15,
   "metadata": {},
   "outputs": [
    {
     "name": "stdout",
     "output_type": "stream",
     "text": [
      "3.10.11 (main, Apr 20 2023, 13:59:00) [Clang 14.0.6 ]\n"
     ]
    }
   ],
   "source": [
    "# 只导入模块中的特定函数\n",
    "\n",
    "from sys import version\n",
    "\n",
    "print(version)"
   ]
  },
  {
   "cell_type": "code",
   "execution_count": null,
   "metadata": {},
   "outputs": [],
   "source": [
    "# 模块导入时的initial代码\n",
    "\n",
    "def foo():\n",
    "    pass\n",
    "\n",
    "\n",
    "def bar():\n",
    "    pass\n",
    "\n",
    "# __name__是Python中一个隐含的变量它代表了模块的名字\n",
    "# 只有被Python解释器直接执行的模块的名字才是__main__\n",
    "if __name__ == '__main__':\n",
    "    print('call foo()')\n",
    "    foo()\n",
    "    print('call bar()')\n",
    "    bar()"
   ]
  },
  {
   "attachments": {},
   "cell_type": "markdown",
   "metadata": {},
   "source": [
    "## 变量的作用域\n",
    "[资料链接](https://github.com/jackfrued/Python-100-Days/blob/master/Day01-15/06.%E5%87%BD%E6%95%B0%E5%92%8C%E6%A8%A1%E5%9D%97%E7%9A%84%E4%BD%BF%E7%94%A8.md#%E5%8F%98%E9%87%8F%E7%9A%84%E4%BD%9C%E7%94%A8%E5%9F%9F)\n",
    "\n",
    "- 全局作用域-全局变量\n",
    "- 局部作用域-局部变量\n",
    "- 嵌套作用域-函数嵌套中，从父函数继承的上级局部变量\n"
   ]
  },
  {
   "cell_type": "code",
   "execution_count": 40,
   "metadata": {},
   "outputs": [
    {
     "name": "stdout",
     "output_type": "stream",
     "text": [
      "200\n",
      "100\n"
     ]
    }
   ],
   "source": [
    "# 局部作用域与全局作用域对比\n",
    "\n",
    "def foo():\n",
    "    a = 200\n",
    "    print(a) # a=200\n",
    "\n",
    "if __name__ == '__main__':\n",
    "    a = 100\n",
    "    foo() # 输出局部作用域foo()中的a=100\n",
    "    print(a) # 打印全局作用域中的a=100\n"
   ]
  },
  {
   "cell_type": "code",
   "execution_count": 41,
   "metadata": {},
   "outputs": [
    {
     "name": "stdout",
     "output_type": "stream",
     "text": [
      "200\n",
      "200\n"
     ]
    }
   ],
   "source": [
    "# 从局部作用域修改全局作用域变量\n",
    "\n",
    "def foo():\n",
    "    global a # 声明 a 来自全局作用域\n",
    "    a = 200\n",
    "    print(a) \n",
    "\n",
    "if __name__ == '__main__':\n",
    "    a = 100\n",
    "    foo()\n",
    "    print(a) \n"
   ]
  },
  {
   "cell_type": "code",
   "execution_count": 45,
   "metadata": {},
   "outputs": [
    {
     "name": "stdout",
     "output_type": "stream",
     "text": [
      "100\n",
      "200\n"
     ]
    }
   ],
   "source": [
    "# 从局部作用域修改嵌套作用域变量\n",
    "\n",
    "def foo():\n",
    "    a = 100\n",
    "    print(a)\n",
    "\n",
    "    def bar():\n",
    "        nonlocal a # 声明 a 来自上级嵌套作用域\n",
    "        a = 200\n",
    "        print(a)\n",
    "    \n",
    "    bar()\n",
    "\n",
    "foo()"
   ]
  },
  {
   "attachments": {},
   "cell_type": "markdown",
   "metadata": {},
   "source": [
    "在实践中，尽量减少使用全局变量：\n",
    "- 生命周期比局部变量长\n",
    "- 节省内存，避免长期占用无法被垃圾回收\n",
    "- 降低代码耦合度\n",
    "- 迪米特法则的践行\n",
    "\n",
    "要延长局部变量生命周期，使其在定义它的函数调用结束后依然可以使用它的值：闭包"
   ]
  }
 ],
 "metadata": {
  "kernelspec": {
   "display_name": "Python 3",
   "language": "python",
   "name": "python3"
  },
  "language_info": {
   "codemirror_mode": {
    "name": "ipython",
    "version": 3
   },
   "file_extension": ".py",
   "mimetype": "text/x-python",
   "name": "python",
   "nbconvert_exporter": "python",
   "pygments_lexer": "ipython3",
   "version": "3.10.11"
  },
  "orig_nbformat": 4
 },
 "nbformat": 4,
 "nbformat_minor": 2
}
