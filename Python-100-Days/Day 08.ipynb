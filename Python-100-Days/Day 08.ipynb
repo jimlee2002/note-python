{
 "cells": [
  {
   "attachments": {},
   "cell_type": "markdown",
   "metadata": {},
   "source": [
    "# Day 08 面向对象编程"
   ]
  },
  {
   "attachments": {},
   "cell_type": "markdown",
   "metadata": {},
   "source": [
    "##  关于面向对象编程\n",
    "设计思想：抽象出Class，根据Class创建Instance。"
   ]
  },
  {
   "attachments": {},
   "cell_type": "markdown",
   "metadata": {},
   "source": [
    "- 对象object：一组数据结构和处理它们的方法，对象是类的实例\n",
    "- 类class：相同行为对象的集合，类是对象的蓝图和模板\n",
    "    - 拥有共同特征的对象的静态特征（属性state）和动态特征（方法method）\n",
    "- 实例instance：基于某个类创建"
   ]
  },
  {
   "attachments": {},
   "cell_type": "markdown",
   "metadata": {},
   "source": [
    "**面向对象三大特点：**\n",
    "- 封装encapsulation：隐藏类内部实现细节，只向外界暴露接口（调用方法）\n",
    "- 继承inheritance：类的特化（specialization）和泛化（generalization）\n",
    "- 多态polymorphism：基于对象类型的动态分派"
   ]
  },
  {
   "cell_type": "code",
   "execution_count": 6,
   "metadata": {},
   "outputs": [],
   "source": [
    "# 类的创建\n",
    "class Student(object):\n",
    "    \n",
    "    # 初始化对象Student, 绑定属性name和age\n",
    "    # 第一个参数self必须，表示创建的实例本身\n",
    "    def __init__(self, name, age):\n",
    "        self.name = name\n",
    "        self.age = age\n",
    "    \n",
    "    # 定义对象方法study\n",
    "    def study(self, course_name):\n",
    "        print(\"%s正在学习%s.\" % (self.name, course_name))\n",
    "    \n",
    "    # 定义对象方法watch movie\n",
    "    def watch_movie(self):\n",
    "        if self.age < 18:\n",
    "            print(\"You cant watch\")\n",
    "        else:\n",
    "            print(\"Watching\")\n"
   ]
  },
  {
   "cell_type": "code",
   "execution_count": 10,
   "metadata": {},
   "outputs": [
    {
     "name": "stdout",
     "output_type": "stream",
     "text": [
      "Mike Simpson正在学习Math.\n",
      "None\n",
      "Lisa Yu正在学习English.\n",
      "None\n",
      "Watching\n",
      "None\n",
      "You cant watch\n",
      "None\n"
     ]
    }
   ],
   "source": [
    "# 使用对象\n",
    "\n",
    "# 创建学生对象实例(Instance)，指定姓名和年龄\n",
    "mike = Student(\"Mike Simpson\", 23)\n",
    "lisa = Student(\"Lisa Yu\", 16)\n",
    "\n",
    "# 给对象发消息,即调用对象对应的关联函数，称为对象的方法 (Method)\n",
    "# 给对象发送信息Study\n",
    "print(mike.study(\"Math\"))\n",
    "print(lisa.study(\"English\"))\n",
    "\n",
    "# 给对象发送信息watch_movie\n",
    "print(mike.watch_movie())\n",
    "print(lisa.watch_movie())"
   ]
  },
  {
   "attachments": {},
   "cell_type": "markdown",
   "metadata": {},
   "source": [
    "## 访问可见性"
   ]
  },
  {
   "cell_type": "code",
   "execution_count": 12,
   "metadata": {},
   "outputs": [
    {
     "ename": "AttributeError",
     "evalue": "'Test' object has no attribute '__bar'",
     "output_type": "error",
     "traceback": [
      "\u001b[1;31m---------------------------------------------------------------------------\u001b[0m",
      "\u001b[1;31mAttributeError\u001b[0m                            Traceback (most recent call last)",
      "Cell \u001b[1;32mIn[12], line 20\u001b[0m\n\u001b[0;32m     17\u001b[0m     \u001b[39mprint\u001b[39m(test\u001b[39m.\u001b[39m__foo)\n\u001b[0;32m     19\u001b[0m \u001b[39mif\u001b[39;00m \u001b[39m__name__\u001b[39m \u001b[39m==\u001b[39m \u001b[39m\"\u001b[39m\u001b[39m__main__\u001b[39m\u001b[39m\"\u001b[39m:\n\u001b[1;32m---> 20\u001b[0m     main()\n",
      "Cell \u001b[1;32mIn[12], line 16\u001b[0m, in \u001b[0;36mmain\u001b[1;34m()\u001b[0m\n\u001b[0;32m     14\u001b[0m \u001b[39mdef\u001b[39;00m \u001b[39mmain\u001b[39m():\n\u001b[0;32m     15\u001b[0m     test \u001b[39m=\u001b[39m Test(\u001b[39m\"\u001b[39m\u001b[39mHello\u001b[39m\u001b[39m\"\u001b[39m)\n\u001b[1;32m---> 16\u001b[0m     test\u001b[39m.\u001b[39;49m__bar()\n\u001b[0;32m     17\u001b[0m     \u001b[39mprint\u001b[39m(test\u001b[39m.\u001b[39m__foo)\n",
      "\u001b[1;31mAttributeError\u001b[0m: 'Test' object has no attribute '__bar'"
     ]
    }
   ],
   "source": [
    "# 类的属性/方法默认外部公开\n",
    "# 设置属性/方法在类内部私有：命名使用两个下划线开头\n",
    "\n",
    "class Test:\n",
    "    def __init__(self, foo):\n",
    "        # 定义私有属性__foo\n",
    "        self.__foo = foo\n",
    "    \n",
    "    # 定义私有方法__bar\n",
    "    def __bar(self):\n",
    "        print(self.__foo)\n",
    "        print(\"__bar\")\n",
    "\n",
    "def main():\n",
    "    test = Test(\"Hello\")\n",
    "    test.__bar()\n",
    "    print(test.__foo)\n",
    "\n",
    "if __name__ == \"__main__\":\n",
    "    main()"
   ]
  }
 ],
 "metadata": {
  "kernelspec": {
   "display_name": "Python 3",
   "language": "python",
   "name": "python3"
  },
  "language_info": {
   "codemirror_mode": {
    "name": "ipython",
    "version": 3
   },
   "file_extension": ".py",
   "mimetype": "text/x-python",
   "name": "python",
   "nbconvert_exporter": "python",
   "pygments_lexer": "ipython3",
   "version": "3.10.10"
  },
  "orig_nbformat": 4
 },
 "nbformat": 4,
 "nbformat_minor": 2
}
