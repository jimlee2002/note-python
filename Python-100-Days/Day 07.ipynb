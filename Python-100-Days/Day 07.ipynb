{
 "cells": [
  {
   "attachments": {},
   "cell_type": "markdown",
   "metadata": {},
   "source": [
    "# Day 07 字符串与数据结构"
   ]
  },
  {
   "attachments": {},
   "cell_type": "markdown",
   "metadata": {},
   "source": [
    "## 字符串"
   ]
  },
  {
   "attachments": {},
   "cell_type": "markdown",
   "metadata": {},
   "source": [
    "### 字符串定义"
   ]
  },
  {
   "cell_type": "code",
   "execution_count": 1,
   "metadata": {},
   "outputs": [
    {
     "name": "stdout",
     "output_type": "stream",
     "text": [
      "hello world hello world \n",
      "hello\n",
      "world\n",
      "\n"
     ]
    }
   ],
   "source": [
    "s1 = 'hello world'\n",
    "s2 = \"hello world\"\n",
    "# 以三个双引号或单引号开头的字符串可以折行\n",
    "s3 = \"\"\"\n",
    "hello\n",
    "world\n",
    "\"\"\"\n",
    "print(s1, s2, s3)"
   ]
  },
  {
   "cell_type": "code",
   "execution_count": 4,
   "metadata": {},
   "outputs": [
    {
     "name": "stdout",
     "output_type": "stream",
     "text": [
      "'hello world' \n",
      " \\ hello \t world \\ \n",
      " \\n \\\\ hello \\t world \\\\ \\n\n"
     ]
    }
   ],
   "source": [
    "# 字符串转义\n",
    "s1 = '\\'hello world\\''\n",
    "s2 = '\\n \\\\ hello \\t world \\\\ \\n'\n",
    "# 取消转义\n",
    "s3 = r'\\n \\\\ hello \\t world \\\\ \\n'\n",
    "print(s1, s2, s3)"
   ]
  },
  {
   "cell_type": "code",
   "execution_count": 5,
   "metadata": {},
   "outputs": [
    {
     "name": "stdout",
     "output_type": "stream",
     "text": [
      "骆昊 骆昊\n"
     ]
    }
   ],
   "source": [
    "# 转义编码为字符\n",
    "s1= '\\u9a86\\u660a'\n",
    "s2 = '\\u9a86\\u660a'\n",
    "print(s1, s2)"
   ]
  },
  {
   "attachments": {},
   "cell_type": "markdown",
   "metadata": {},
   "source": [
    "### 字符串处理"
   ]
  },
  {
   "cell_type": "code",
   "execution_count": 3,
   "metadata": {},
   "outputs": [
    {
     "name": "stdout",
     "output_type": "stream",
     "text": [
      "a=5, b=10, a*b=50\n",
      "a=5, b=10, a*b=50\n",
      "a=5, b=10, a*b=50\n"
     ]
    }
   ],
   "source": [
    "# 字符串格式化\n",
    "a, b = 5, 10\n",
    "print(\"a=%d, b=%d, a*b=%d\" % (a, b, a*b))\n",
    "print(\"a={0}, b={1}, a*b={2}\".format(a, b, a*b))\n",
    "print(f\"a={a}, b={b}, a*b={a*b}\")"
   ]
  },
  {
   "cell_type": "code",
   "execution_count": 6,
   "metadata": {},
   "outputs": [
    {
     "name": "stdout",
     "output_type": "stream",
     "text": [
      "hellohellohello worldhello\n"
     ]
    }
   ],
   "source": [
    "# 字符串组装\n",
    "s1 = \"hello\" *3\n",
    "s2 = \"world\" + \"hello\"\n",
    "\n",
    "print(s1, s2)"
   ]
  },
  {
   "cell_type": "code",
   "execution_count": 8,
   "metadata": {},
   "outputs": [
    {
     "name": "stdout",
     "output_type": "stream",
     "text": [
      "True\n",
      "False\n"
     ]
    }
   ],
   "source": [
    "# 判断字符串是否包含另一字符串\n",
    "\n",
    "s1 = \"hello\"\n",
    "s2 = \"hello world\"\n",
    "s3 = \"bye\"\n",
    "\n",
    "print(s1 in s2)\n",
    "print(s3 in s2)"
   ]
  },
  {
   "cell_type": "code",
   "execution_count": 19,
   "metadata": {},
   "outputs": [
    {
     "name": "stdout",
     "output_type": "stream",
     "text": [
      "A\n",
      "C1\n",
      "C1234567890\n",
      "ABC1\n",
      "C36\n",
      "C369\n"
     ]
    }
   ],
   "source": [
    "# 字符串索引切片\n",
    "s1 = \"ABC1234567890\"\n",
    "\n",
    "print(s1[0])\n",
    "print(s1[2:4])\n",
    "print(s1[2:])\n",
    "print(s1[:4])\n",
    "print(s1[2:9:3]) # 步长为3\n",
    "print(s1[2::3])"
   ]
  },
  {
   "cell_type": "code",
   "execution_count": 23,
   "metadata": {},
   "outputs": [
    {
     "name": "stdout",
     "output_type": "stream",
     "text": [
      "13\n",
      "Hello, world!\n",
      "Hello, World!\n",
      "HELLO, WORLD!\n",
      "hello, world!\n",
      "7\n",
      "-1\n",
      "7\n"
     ]
    },
    {
     "ename": "ValueError",
     "evalue": "substring not found",
     "output_type": "error",
     "traceback": [
      "\u001b[0;31m---------------------------------------------------------------------------\u001b[0m",
      "\u001b[0;31mValueError\u001b[0m                                Traceback (most recent call last)",
      "Cell \u001b[0;32mIn[23], line 20\u001b[0m\n\u001b[1;32m     17\u001b[0m \u001b[39mprint\u001b[39m(s1\u001b[39m.\u001b[39mfind(\u001b[39m\"\u001b[39m\u001b[39mbye\u001b[39m\u001b[39m\"\u001b[39m)) \u001b[39m# 找不到返回-1\u001b[39;00m\n\u001b[1;32m     19\u001b[0m \u001b[39mprint\u001b[39m(s1\u001b[39m.\u001b[39mindex(\u001b[39m\"\u001b[39m\u001b[39mwo\u001b[39m\u001b[39m\"\u001b[39m))\n\u001b[0;32m---> 20\u001b[0m \u001b[39mprint\u001b[39m(s1\u001b[39m.\u001b[39;49mindex(\u001b[39m\"\u001b[39;49m\u001b[39mbye\u001b[39;49m\u001b[39m\"\u001b[39;49m)) \u001b[39m# 找不到抛出错误\u001b[39;00m\n\u001b[1;32m     23\u001b[0m \u001b[39m# 检查是否开头\u001b[39;00m\n\u001b[1;32m     24\u001b[0m \u001b[39mprint\u001b[39m(s1\u001b[39m.\u001b[39mstartswith(\u001b[39m\"\u001b[39m\u001b[39mhel\u001b[39m\u001b[39m\"\u001b[39m))\n",
      "\u001b[0;31mValueError\u001b[0m: substring not found"
     ]
    }
   ],
   "source": [
    "s1 = \"hello, world!\"\n",
    "\n",
    "# 字符串长度\n",
    "print(len(s1))\n",
    "\n",
    "# 首字母大写\n",
    "print(s1.capitalize())\n",
    "# 每个单词首字母大写\n",
    "print(s1.title())\n",
    "# 全部字母大写\n",
    "print(s1.upper())\n",
    "# 全部字母小写\n",
    "print(s1.lower())\n",
    "\n",
    "# 查找字串位置，返回索引位置\n",
    "print(s1.find(\"wo\"))\n",
    "print(s1.find(\"bye\")) # 找不到返回-1\n",
    "\n",
    "print(s1.index(\"wo\"))\n",
    "print(s1.index(\"bye\")) # 找不到抛出错误\n"
   ]
  },
  {
   "cell_type": "code",
   "execution_count": 25,
   "metadata": {},
   "outputs": [
    {
     "name": "stdout",
     "output_type": "stream",
     "text": [
      "False\n",
      "False\n",
      "False\n",
      "******************ABC1234567890*******************\n",
      "                                     ABC1234567890\n",
      "False\n",
      "False\n",
      "True\n"
     ]
    }
   ],
   "source": [
    "s1 = \"ABC1234567890\"\n",
    "\n",
    "# 检查是否以特定字串开头\n",
    "print(s1.startswith(\"hel\"))\n",
    "print(s1.startswith(\"Hel\"))\n",
    "\n",
    "# 检查是否以特定字串结尾\n",
    "print(s1.endswith(\"!\"))\n"
   ]
  },
  {
   "cell_type": "code",
   "execution_count": null,
   "metadata": {},
   "outputs": [],
   "source": [
    "s1 = \"ABC1234567890\"\n",
    "\n",
    "# 以指定宽度，居中输出字符串，两侧填充指定字符\n",
    "print(s1.center(50, \"*\"))\n",
    "# 以指定宽度，靠右输出字符串，左侧填充指定字符\n",
    "print(s1.rjust(50, \" \"))\n"
   ]
  },
  {
   "cell_type": "code",
   "execution_count": null,
   "metadata": {},
   "outputs": [],
   "source": [
    "s1 = \"ABC1234567890\"\n",
    "\n",
    "# 字符串是否由纯数字构成\n",
    "print(s1.isdigit())\n",
    "# 字符串是否以纯字母构成\n",
    "print(s1.isalpha())\n",
    "# 字符串是否以数字和字母构成\n",
    "print(s1.isalnum())"
   ]
  },
  {
   "cell_type": "code",
   "execution_count": 27,
   "metadata": {},
   "outputs": [
    {
     "name": "stdout",
     "output_type": "stream",
     "text": [
      "ihatspace@exampl.com\n"
     ]
    }
   ],
   "source": [
    "s1 = \"   ihatspace@exampl.com       \"\n",
    "# 修剪字符串两侧空格\n",
    "print(s1.strip())"
   ]
  }
 ],
 "metadata": {
  "kernelspec": {
   "display_name": "Python 3",
   "language": "python",
   "name": "python3"
  },
  "language_info": {
   "codemirror_mode": {
    "name": "ipython",
    "version": 3
   },
   "file_extension": ".py",
   "mimetype": "text/x-python",
   "name": "python",
   "nbconvert_exporter": "python",
   "pygments_lexer": "ipython3",
   "version": "3.10.10"
  },
  "orig_nbformat": 4
 },
 "nbformat": 4,
 "nbformat_minor": 2
}
