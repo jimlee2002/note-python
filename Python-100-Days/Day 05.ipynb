{
 "cells": [
  {
   "attachments": {},
   "cell_type": "markdown",
   "metadata": {},
   "source": [
    "# Day05 构造程序逻辑"
   ]
  },
  {
   "attachments": {},
   "cell_type": "markdown",
   "metadata": {},
   "source": [
    "## 寻找水仙花数"
   ]
  },
  {
   "cell_type": "code",
   "execution_count": 3,
   "metadata": {},
   "outputs": [
    {
     "name": "stdout",
     "output_type": "stream",
     "text": [
      "153\n",
      "370\n",
      "371\n",
      "407\n",
      "1000\n",
      "1001\n"
     ]
    }
   ],
   "source": [
    "for num in range(100,10000):\n",
    "    low = num % 10\n",
    "    mid = num // 10 % 10\n",
    "    high = num // 100\n",
    "    if num == low**3 + mid**3 + high**3:\n",
    "        print(num)"
   ]
  },
  {
   "attachments": {},
   "cell_type": "markdown",
   "metadata": {},
   "source": [
    "## 反转正整数"
   ]
  },
  {
   "cell_type": "code",
   "execution_count": 4,
   "metadata": {},
   "outputs": [
    {
     "name": "stdout",
     "output_type": "stream",
     "text": [
      "654321\n"
     ]
    }
   ],
   "source": [
    "num = int(input(\"num: \"))\n",
    "r_number = 0\n",
    "while num > 0:\n",
    "    # num % 10 取尾数，+ r_num * 10 组装\n",
    "    r_number = r_number * 10 + num % 10\n",
    "    # 剔除处理完的尾数\n",
    "    num //=10\n",
    "print(r_number)"
   ]
  },
  {
   "attachments": {},
   "cell_type": "markdown",
   "metadata": {},
   "source": [
    "## 百钱百鸡"
   ]
  },
  {
   "attachments": {},
   "cell_type": "markdown",
   "metadata": {},
   "source": [
    "公鸡5元一只，母鸡3元一只，小鸡1元三只，用100块钱买一百只鸡，问公鸡、母鸡、小鸡各有多少只？"
   ]
  },
  {
   "cell_type": "code",
   "execution_count": 10,
   "metadata": {},
   "outputs": [
    {
     "name": "stdout",
     "output_type": "stream",
     "text": [
      "公鸡: 0只, 母鸡: 25只, 小鸡: 75只\n",
      "公鸡: 4只, 母鸡: 18只, 小鸡: 78只\n",
      "公鸡: 8只, 母鸡: 11只, 小鸡: 81只\n",
      "公鸡: 12只, 母鸡: 4只, 小鸡: 84只\n"
     ]
    }
   ],
   "source": [
    "# 穷举法 / 暴力搜索法\n",
    "for x in range (0, 20):\n",
    "    for y in range (0, 33):\n",
    "        z = 100 - x - y\n",
    "        if 5*x + 3*y + z/3 == 100:\n",
    "            print('公鸡: %d只, 母鸡: %d只, 小鸡: %d只' % (x, y, z))"
   ]
  },
  {
   "attachments": {},
   "cell_type": "markdown",
   "metadata": {},
   "source": [
    "## CRAPS 赌博游戏"
   ]
  },
  {
   "attachments": {},
   "cell_type": "markdown",
   "metadata": {},
   "source": [
    "该游戏使用两粒骰子，玩家通过摇两粒骰子获得点数进行游戏。\n",
    "\n",
    "简单的规则是：\n",
    "- 玩家第一次摇骰子如果摇出了7点或11点，玩家胜；\n",
    "- 玩家第一次如果摇出2点、3点或12点，庄家胜；\n",
    "- 其他点数玩家继续摇骰子，如果玩家摇出了7点，庄家胜；\n",
    "- 如果玩家摇出了第一次摇的点数，玩家胜；\n",
    "- 其他点数，玩家继续要骰子，直到分出胜负。"
   ]
  },
  {
   "cell_type": "code",
   "execution_count": 15,
   "metadata": {},
   "outputs": [
    {
     "name": "stdout",
     "output_type": "stream",
     "text": [
      "你的总资产为: 1000\n",
      "玩家摇出了5点\n",
      "玩家摇出了5点\n",
      "You win!\n",
      "你的总资产为: 2000\n",
      "玩家摇出了8点\n",
      "玩家摇出了3点\n",
      "玩家摇出了9点\n",
      "玩家摇出了7点\n",
      "You lost!\n",
      "你的总资产为: 1000\n",
      "玩家摇出了6点\n",
      "玩家摇出了7点\n",
      "You lost!\n",
      "你破产了, 游戏结束!\n"
     ]
    }
   ],
   "source": [
    "from random import randint\n",
    "\n",
    "money = 1000\n",
    "while money > 0:\n",
    "    print('你的总资产为:', money)\n",
    "    if_continue = False\n",
    "    while True:\n",
    "        debt = int(input('请下注: '))\n",
    "        if 0 < debt <= money:\n",
    "            break\n",
    "    # first roll\n",
    "    first = randint(1, 6) + randint(1, 6)\n",
    "    print('玩家摇出了%d点' % first)\n",
    "    # judge first roll\n",
    "    if first == 7 or first == 11:\n",
    "        print(\"You win!\")\n",
    "        money += debt\n",
    "    elif first == 2 or first ==3 or first == 12:\n",
    "        print(\"You lost!\")\n",
    "        money -= debt\n",
    "    else:\n",
    "        if_continue = True\n",
    "    # continue roll\n",
    "    while if_continue:\n",
    "        if_continue = False\n",
    "        current = randint(1, 6) + randint(1, 6)\n",
    "        print('玩家摇出了%d点' % current)\n",
    "        if current == 7:\n",
    "            print(\"You lost!\")\n",
    "            money -= debt\n",
    "        elif current == first:\n",
    "            print(\"You win!\")\n",
    "            money += debt\n",
    "        else:\n",
    "            if_continue = True\n",
    "print('你破产了, 游戏结束!')"
   ]
  },
  {
   "attachments": {},
   "cell_type": "markdown",
   "metadata": {},
   "source": [
    "## 斐波那契数列的前20个数"
   ]
  },
  {
   "attachments": {},
   "cell_type": "markdown",
   "metadata": {},
   "source": [
    "斐波那契数列（Fibonacci sequence），又称黄金分割数列、兔子数列。\n",
    "\n",
    "特点是数列的前两个数都是1，从第三个数开始，每个数都是它前面两个数的和，形如：1, 1, 2, 3, 5, 8, 13, 21, 34, 55, 89, 144, ...。"
   ]
  },
  {
   "cell_type": "code",
   "execution_count": 20,
   "metadata": {},
   "outputs": [
    {
     "name": "stdout",
     "output_type": "stream",
     "text": [
      "[1, 1, 2, 3, 5, 8, 13, 21, 34, 55, 89, 144, 233, 377, 610, 987, 1597, 2584, 4181, 6765]\n"
     ]
    }
   ],
   "source": [
    "count = 20\n",
    "t = 0\n",
    "f_list = []\n",
    "while t < count:\n",
    "    if t+1 <= 2:\n",
    "        f_list.append(1)\n",
    "        t += 1\n",
    "        continue\n",
    "    f_list.append(sum(f_list[t-2:t]))\n",
    "    t += 1\n",
    "print(f_list)"
   ]
  },
  {
   "attachments": {},
   "cell_type": "markdown",
   "metadata": {},
   "source": [
    "## 找出10000以内的完美数"
   ]
  },
  {
   "attachments": {},
   "cell_type": "markdown",
   "metadata": {},
   "source": [
    "完美数又称为完全数或完备数，它的所有的真因子（即除了自身以外的因子）的和（即因子函数）恰好等于它本身。例如：6（$6=1+2+3$）和28（$28=1+2+4+7+14$）就是完美数。完美数有很多神奇的特性，有兴趣的可以自行了解。"
   ]
  },
  {
   "cell_type": "code",
   "execution_count": 29,
   "metadata": {},
   "outputs": [
    {
     "name": "stdout",
     "output_type": "stream",
     "text": [
      "6\n",
      "28\n",
      "496\n",
      "8128\n"
     ]
    }
   ],
   "source": [
    "for num in range(1, 10001):\n",
    "    n_list = []\n",
    "    # 提取真因子\n",
    "    for n in range(1, num):\n",
    "        if num % n == 0:\n",
    "            n_list.append(n)\n",
    "    # 校验真因子之和是否符合条件\n",
    "    if sum(n_list) == num:\n",
    "        print(num)"
   ]
  },
  {
   "attachments": {},
   "cell_type": "markdown",
   "metadata": {},
   "source": [
    "## 输出 100 以内的所有素数"
   ]
  },
  {
   "attachments": {},
   "cell_type": "markdown",
   "metadata": {},
   "source": [
    "素数指的是只能被1和自身整除的正整数（不包括1）。"
   ]
  },
  {
   "cell_type": "code",
   "execution_count": 36,
   "metadata": {},
   "outputs": [
    {
     "name": "stdout",
     "output_type": "stream",
     "text": [
      "2\n",
      "3\n",
      "5\n",
      "7\n",
      "11\n",
      "13\n",
      "17\n",
      "19\n",
      "23\n",
      "29\n",
      "31\n",
      "37\n",
      "41\n",
      "43\n",
      "47\n",
      "53\n",
      "59\n",
      "61\n",
      "67\n",
      "71\n",
      "73\n",
      "79\n",
      "83\n",
      "89\n",
      "97\n"
     ]
    }
   ],
   "source": [
    "for num in range(2, 100):\n",
    "    is_prime = True\n",
    "    for factor in range(2, num):\n",
    "        if num % factor == 0:\n",
    "            is_prime = False\n",
    "            break\n",
    "    if is_prime:\n",
    "        print(num)"
   ]
  }
 ],
 "metadata": {
  "kernelspec": {
   "display_name": "Python 3",
   "language": "python",
   "name": "python3"
  },
  "language_info": {
   "codemirror_mode": {
    "name": "ipython",
    "version": 3
   },
   "file_extension": ".py",
   "mimetype": "text/x-python",
   "name": "python",
   "nbconvert_exporter": "python",
   "pygments_lexer": "ipython3",
   "version": "3.10.10"
  },
  "orig_nbformat": 4
 },
 "nbformat": 4,
 "nbformat_minor": 2
}
