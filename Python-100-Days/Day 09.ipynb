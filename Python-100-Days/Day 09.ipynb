{
 "cells": [
  {
   "attachments": {},
   "cell_type": "markdown",
   "metadata": {},
   "source": [
    "# Day 09 面向对象进阶\n"
   ]
  },
  {
   "attachments": {},
   "cell_type": "markdown",
   "metadata": {},
   "source": [
    "## `@property` 装饰器\n",
    "\n",
    "直接将属性暴露给外界也可能有问题，比如我们没有办法检查赋给属性的值是否有效。\n",
    "\n",
    "受保护属性：单下划线开头。通过这种方式来暗示属性是受保护的，不建议外界直接访问。\n",
    "\n",
    "访问属性可以通过属性的getter（访问器）和setter（修改器）方法进行对应的操作。\n",
    "\n",
    "要做到这点，就可以考虑使用@property包装器来包装getter和setter方法，使得对属性的访问既安全又方便，"
   ]
  },
  {
   "cell_type": "code",
   "execution_count": 12,
   "metadata": {},
   "outputs": [
    {
     "name": "stdout",
     "output_type": "stream",
     "text": [
      "王大锤正在玩飞行棋.\n",
      "王大锤正在玩斗地主.\n"
     ]
    },
    {
     "ename": "AttributeError",
     "evalue": "can't set attribute 'name'",
     "output_type": "error",
     "traceback": [
      "\u001b[0;31m---------------------------------------------------------------------------\u001b[0m",
      "\u001b[0;31mAttributeError\u001b[0m                            Traceback (most recent call last)",
      "Cell \u001b[0;32mIn[12], line 35\u001b[0m\n\u001b[1;32m     32\u001b[0m person\u001b[39m.\u001b[39mage \u001b[39m=\u001b[39m \u001b[39m22\u001b[39m\n\u001b[1;32m     33\u001b[0m person\u001b[39m.\u001b[39mplay()\n\u001b[0;32m---> 35\u001b[0m person\u001b[39m.\u001b[39;49mname \u001b[39m=\u001b[39m \u001b[39m'\u001b[39m\u001b[39m白元芳\u001b[39m\u001b[39m'\u001b[39m \u001b[39m# 报错，未设置name的setter。无法修改\u001b[39;00m\n\u001b[1;32m     36\u001b[0m person\u001b[39m.\u001b[39mplay()\n",
      "\u001b[0;31mAttributeError\u001b[0m: can't set attribute 'name'"
     ]
    }
   ],
   "source": [
    "class Person(object):\n",
    "\n",
    "    def __init__(self, name, age) -> None:\n",
    "        self._name = name \n",
    "        self._age = age\n",
    "    \n",
    "    @property\n",
    "    def name(self):\n",
    "        return self.name\n",
    "    \n",
    "    @property\n",
    "    def age(self):\n",
    "        return self.age\n",
    "\n",
    "    @age.setter\n",
    "    def age(self, age):\n",
    "        self._age = age\n",
    "\n",
    "    # @name.setter\n",
    "    # def name(self, name):\n",
    "    #     self._name = name\n",
    "    \n",
    "    def play(self):\n",
    "        if self._age <= 16:\n",
    "            print('%s正在玩飞行棋.' % self._name)\n",
    "        else:\n",
    "            print('%s正在玩斗地主.' % self._name)\n",
    "\n",
    "person = Person('王大锤', 12)\n",
    "person.play()\n",
    "\n",
    "person.age = 22\n",
    "person.play()\n",
    "\n",
    "person.name = '白元芳' # 报错，未设置name的setter。无法修改\n",
    "person.play()"
   ]
  },
  {
   "attachments": {},
   "cell_type": "markdown",
   "metadata": {},
   "source": [
    "## ``__slot__``\n",
    "限定对象可以绑定的属性\n",
    "\n",
    "只对当前类作用域生效，不对子类生效"
   ]
  },
  {
   "cell_type": "code",
   "execution_count": 13,
   "metadata": {},
   "outputs": [
    {
     "name": "stdout",
     "output_type": "stream",
     "text": [
      "王大锤正在玩斗地主.\n"
     ]
    },
    {
     "ename": "AttributeError",
     "evalue": "'Person' object has no attribute '__gender'",
     "output_type": "error",
     "traceback": [
      "\u001b[0;31m---------------------------------------------------------------------------\u001b[0m",
      "\u001b[0;31mAttributeError\u001b[0m                            Traceback (most recent call last)",
      "Cell \u001b[0;32mIn[13], line 35\u001b[0m\n\u001b[1;32m     32\u001b[0m person \u001b[39m=\u001b[39m Person(\u001b[39m'\u001b[39m\u001b[39m王大锤\u001b[39m\u001b[39m'\u001b[39m, \u001b[39m22\u001b[39m)\n\u001b[1;32m     33\u001b[0m person\u001b[39m.\u001b[39mplay()\n\u001b[0;32m---> 35\u001b[0m person\u001b[39m.\u001b[39;49m__gender \u001b[39m=\u001b[39m \u001b[39m'\u001b[39m\u001b[39m男\u001b[39m\u001b[39m'\u001b[39m\n\u001b[1;32m     36\u001b[0m person\u001b[39m.\u001b[39mplay()\n\u001b[1;32m     38\u001b[0m \u001b[39m# __slot__中未定义允许_education属性，报错\u001b[39;00m\n",
      "\u001b[0;31mAttributeError\u001b[0m: 'Person' object has no attribute '__gender'"
     ]
    }
   ],
   "source": [
    "class Person(object):\n",
    "\n",
    "    # 限定Person对象只能绑定__name, __age和__gender属性\n",
    "    __slots__ = ('__name', '__age', '__gender')\n",
    "\n",
    "    def __init__(self, name, age) -> None:\n",
    "        self.__name = name \n",
    "        self.__age = age\n",
    "    \n",
    "    @property\n",
    "    def name(self):\n",
    "        return self.name\n",
    "    \n",
    "    @property\n",
    "    def age(self):\n",
    "        return self.age\n",
    "\n",
    "    @age.setter\n",
    "    def age(self, age):\n",
    "        self.__age = age\n",
    "\n",
    "    # @name.setter\n",
    "    # def name(self, name):\n",
    "    #     self.__name = name\n",
    "    \n",
    "    def play(self):\n",
    "        if self.__age <= 16:\n",
    "            print('%s正在玩飞行棋.' % self.__name)\n",
    "        else:\n",
    "            print('%s正在玩斗地主.' % self.__name)\n",
    "\n",
    "person = Person('王大锤', 22)\n",
    "person.play()\n",
    "\n",
    "person.__gender = '男'\n",
    "person.play()\n",
    "\n",
    "# __slot__中未定义允许_education属性，报错\n",
    "person._education = '高中'"
   ]
  },
  {
   "attachments": {},
   "cell_type": "markdown",
   "metadata": {},
   "source": [
    "## 静态方法与类方法"
   ]
  },
  {
   "attachments": {},
   "cell_type": "markdown",
   "metadata": {},
   "source": [
    "### 静态方法\n",
    "\n",
    "调用该方法不需要对象已创建。\n",
    "\n",
    "无需添加必要参数（如`self`）\n"
   ]
  },
  {
   "cell_type": "code",
   "execution_count": 11,
   "metadata": {},
   "outputs": [
    {
     "name": "stdout",
     "output_type": "stream",
     "text": [
      "12\n",
      "6.0\n"
     ]
    }
   ],
   "source": [
    "from math import sqrt\n",
    "\n",
    "class Triangle(object):\n",
    "\n",
    "    def __init__(self, a, b, c):\n",
    "        self._a = a\n",
    "        self._b = b\n",
    "        self._c = c\n",
    "\n",
    "    # 定义静态方法\n",
    "    @staticmethod\n",
    "    def is_valid(a, b, c):\n",
    "        return a + b > c and b + c > a and a + c > b\n",
    "    \n",
    "    # 对象方法-计算周长\n",
    "    def perimeter(self):\n",
    "        return self._a + self._b + self._c\n",
    "\n",
    "    # 对象方法-计算面积\n",
    "    def area(self):\n",
    "        half = self.perimeter() / 2\n",
    "        return sqrt(half * (half - self._a) *\n",
    "                    (half - self._b) * (half - self._c))\n",
    "\n",
    "a, b, c = 3, 4, 5\n",
    "# 调用静态方法检查是否构成三角形\n",
    "if Triangle.is_valid(a, b, c):\n",
    "    t = Triangle(a, b, c)\n",
    "    print(t.perimeter())\n",
    "    print(t.area())\n"
   ]
  },
  {
   "attachments": {},
   "cell_type": "markdown",
   "metadata": {},
   "source": [
    "### 类方法\n",
    "\n",
    "代表的是当前类相关的信息的对象.\n",
    "\n",
    "通过这个参数我们可以获取和类相关的信息并且可以创建出类的对象。\n",
    "\n",
    "类方法的第一个参数约定名为cls。\n",
    "\n"
   ]
  },
  {
   "cell_type": "code",
   "execution_count": 19,
   "metadata": {},
   "outputs": [
    {
     "name": "stdout",
     "output_type": "stream",
     "text": [
      "15:24:53\n",
      "15:24:53\n",
      "15:24:53\n",
      "15:24:53\n",
      "15:24:53\n"
     ]
    },
    {
     "ename": "KeyboardInterrupt",
     "evalue": "",
     "output_type": "error",
     "traceback": [
      "\u001b[0;31m---------------------------------------------------------------------------\u001b[0m",
      "\u001b[0;31mKeyboardInterrupt\u001b[0m                         Traceback (most recent call last)",
      "Cell \u001b[0;32mIn[19], line 37\u001b[0m\n\u001b[1;32m     35\u001b[0m \u001b[39mwhile\u001b[39;00m \u001b[39mTrue\u001b[39;00m:\n\u001b[1;32m     36\u001b[0m     \u001b[39mprint\u001b[39m(clock\u001b[39m.\u001b[39mshow())\n\u001b[0;32m---> 37\u001b[0m     sleep(\u001b[39m1\u001b[39;49m)\n\u001b[1;32m     38\u001b[0m     clock\u001b[39m.\u001b[39mrun\n",
      "\u001b[0;31mKeyboardInterrupt\u001b[0m: "
     ]
    }
   ],
   "source": [
    "from time import time, localtime, sleep\n",
    "\n",
    "class Clock(object):\n",
    "    def __init__(self, hour=0, _minute=0, second=0):\n",
    "        self._hour = hour\n",
    "        self._minute = _minute\n",
    "        self._second = second\n",
    "    \n",
    "    @classmethod\n",
    "    def now(cls):\n",
    "        ctime = localtime(time())\n",
    "        # 通过类方法创建对象\n",
    "        return cls(ctime.tm_hour, ctime.tm_min, ctime.tm_sec)\n",
    "    \n",
    "    def run(self):\n",
    "        \"\"\"走字\"\"\"\n",
    "        self._second += 1\n",
    "        if self._second == 60:\n",
    "            self._second = 0\n",
    "            self._minute += 1\n",
    "            if self._minute == 60:\n",
    "                self._minute = 0\n",
    "                self._hour += 1\n",
    "                if self._hour == 24:\n",
    "                    self._hour = 0\n",
    "\n",
    "    def show(self):\n",
    "        \"\"\"显示时间\"\"\"\n",
    "        return '%02d:%02d:%02d' % \\\n",
    "                (self._hour, self._minute, self._second)\n",
    "\n",
    "# 通过类方法创建对象并获取系统时间\n",
    "clock = Clock.now()\n",
    "\n",
    "while True:\n",
    "    print(clock.show())\n",
    "    sleep(1)\n",
    "    clock.run\n",
    "\n",
    "\n"
   ]
  },
  {
   "attachments": {
    "image.png": {
     "image/png": "[encoded data removed]"
    }
   },
   "cell_type": "markdown",
   "metadata": {},
   "source": [
    "## 类之间的关系\n",
    "\n",
    "- is-a 继承/泛化：学生-人，手机-电子产品\n",
    "- has-a 关联：部门-员工，汽车-引擎\n",
    "- use-a 依赖：司机-汽车（司机有一个驾驶的行为（方法），其中（的参数）需要调用汽车）\n",
    "\n",
    "面向对象建模：UML\n",
    "\n",
    "![image.png](attachment:image.png)"
   ]
  },
  {
   "attachments": {},
   "cell_type": "markdown",
   "metadata": {},
   "source": [
    "## 继承与多态\n",
    "\n",
    "在已有类的基础上创建新类，从而减少重复代码的编写。\n",
    "- 父类（超类、基类）：提供继承信息的类。\n",
    "- 子类（派生类、衍生类）：得到继承信息的类。\n",
    "\n",
    "继承原则：里氏替换原则"
   ]
  },
  {
   "cell_type": "code",
   "execution_count": 20,
   "metadata": {},
   "outputs": [
    {
     "name": "stdout",
     "output_type": "stream",
     "text": [
      "白元芳正在吃饭.\n",
      "狄仁杰正在睡觉.\n",
      "武则天副教授正在讲授Python程序设计.\n",
      "白元芳正在学习Python程序设计.\n"
     ]
    }
   ],
   "source": [
    "# 父类Person\n",
    "class Person(object):\n",
    "\n",
    "    def __init__(self, name, age):\n",
    "        self.name = name\n",
    "        self.age = age\n",
    "    \n",
    "    def eat(self):\n",
    "        print(f'{self.name}正在吃饭.')\n",
    "    \n",
    "    def sleep(self):\n",
    "        print(f'{self.name}正在睡觉.')\n",
    "\n",
    "\n",
    "class Student(Person):\n",
    "    # 调用父类初始化方法\n",
    "    def __init__(self, name, age):\n",
    "        super().__init__(name, age)\n",
    "    \n",
    "    def study(self, course_name):\n",
    "        print(f'{self.name}正在学习{course_name}.')\n",
    "\n",
    "class Teacher(Person):\n",
    "    def __init__(self, name, age, title):\n",
    "        # 调用父类初始化方法\n",
    "        super().__init__(name, age)\n",
    "        # 定义子类独特属性title\n",
    "        self.title = title\n",
    "    \n",
    "    def teach(self, course_name):\n",
    "        print(f'{self.name}{self.title}正在讲授{course_name}.')\n",
    "\n",
    "stu1 = Student('白元芳', 21)\n",
    "stu2 = Student('狄仁杰', 22)\n",
    "teacher = Teacher('武则天', 35, '副教授')\n",
    "stu1.eat()\n",
    "stu2.sleep()\n",
    "teacher.teach('Python程序设计')\n",
    "stu1.study('Python程序设计')\n"
   ]
  },
  {
   "attachments": {},
   "cell_type": "markdown",
   "metadata": {},
   "source": [
    "重写：子类对父类方法的重写\n",
    "\n",
    "多态：子类重写方法后，调用相同方法的不同子类表现出多态行为（调用相同方法，做了不同的事情）"
   ]
  }
 ],
 "metadata": {
  "kernelspec": {
   "display_name": "Python 3",
   "language": "python",
   "name": "python3"
  },
  "language_info": {
   "codemirror_mode": {
    "name": "ipython",
    "version": 3
   },
   "file_extension": ".py",
   "mimetype": "text/x-python",
   "name": "python",
   "nbconvert_exporter": "python",
   "pygments_lexer": "ipython3",
   "version": "3.10.11"
  },
  "orig_nbformat": 4
 },
 "nbformat": 4,
 "nbformat_minor": 2
}
